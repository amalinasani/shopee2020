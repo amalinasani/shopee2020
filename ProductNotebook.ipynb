{
 "cells": [
  {
   "cell_type": "code",
   "execution_count": 14,
   "metadata": {},
   "outputs": [],
   "source": [
    "from __future__ import absolute_import, division, print_function, unicode_literals\n",
    "import tensorflow as tf\n",
    "AUTOTUNE = tf.data.experimental.AUTOTUNE\n",
    "import pandas as pd\n",
    "import numpy as np\n",
    "import cv2\n",
    "import os\n",
    "import matplotlib.pyplot as plt\n",
    "np.set_printoptions(precision=4)"
   ]
  },
  {
   "attachments": {
    "image.png": {
     "image/png": "[encoded data removed]"
    }
   },
   "cell_type": "markdown",
   "metadata": {},
   "source": [
    "## Product Detection Workbook\n",
    "\n",
    "## Task\n",
    "\n",
    "In this competition, a multiple image classification model needs to be built. There are ~100k images within 42 different categories, including essential medical tools like masks, protective suits and thermometers, home & living products like air-conditioner and fashion products like T-shirts, rings, etc. For the data security purpose the category names will be desensitized. The evaluation metrics is top-1 accuracy.\n",
    "\n",
    "![image.png](attachment:image.png)\n",
    "\n",
    "Where\n",
    "- N is number of test samples.\n",
    "- xi is the predicted category for i th test sample.\n",
    "- yi is the ground truth for i th test sample.\n",
    "- p(xi,yi) is calculated as 1 if xi=yi and 0 otherwise.\n",
    "A higher score is better. In your practice you need to find a proper threshold to predict category name(string) instead of probabilities.\n",
    "\n",
    "Submission File\n",
    "Submission file format should be `csv` file only. And for each `filename` in the test dataset, you must predict only one proper category name.\n"
   ]
  },
  {
   "cell_type": "markdown",
   "metadata": {},
   "source": [
    "## Solution Steps\n",
    "\n",
    "## Data Processing\n",
    "\n",
    "Since the data was from real word use cases, inspection needed to be done to ensure that the data is free from noise and losses. As such, typical pre-processing techniques would be use to de-noise the images dataset. A candidate for this would be to apply Gaussian smoothing to the image dataset.\n",
    "\n",
    "Libraries for such functions would be OpenCV.\n",
    "\n",
    "Quick inspection of the image dataset shows that the images are not in the same sizes, thus preprocessing has to be done to resize the images into a standardise size format. \n",
    "\n",
    "The following article outlines how we can choose the right image size for our image classification model.\n",
    "https://towardsdatascience.com/boost-your-cnn-image-classifier-performance-with-progressive-resizing-in-keras-a7d96da06e20\n",
    "\n",
    "Ideally, from this we can obtained a processed dataset from where a image classification model can be built from. In this case, we would be using a convolutional neural network to be trained on the dataset for prediction on the test dataset.\n",
    "\n",
    "Image generator idea in keras & tensorflow could help with loading such large datasets which cannot fit in local memory.\n",
    "https://machinelearningmastery.com/how-to-load-large-datasets-from-directories-for-deep-learning-with-keras/\n",
    "https://www.tensorflow.org/guide/data\n",
    "\n",
    "Due to the large dataset files, we will adopt the pre processing techniques outlined in the following blog post:\n",
    "https://stanford.edu/~shervine/blog/keras-how-to-generate-data-on-the-fly"
   ]
  },
  {
   "cell_type": "code",
   "execution_count": 15,
   "metadata": {},
   "outputs": [],
   "source": [
    "# Reading in raw test and training CSVs\n",
    "trainDF = pd.read_csv(\"train.csv\")\n",
    "testDF = pd.read_csv(\"test.csv\")"
   ]
  },
  {
   "cell_type": "code",
   "execution_count": 16,
   "metadata": {},
   "outputs": [],
   "source": [
    "trainDF.sort_values(by=[\"category\", 'filename'], inplace=True)"
   ]
  },
  {
   "cell_type": "code",
   "execution_count": 17,
   "metadata": {},
   "outputs": [
    {
     "data": {
      "text/html": [
       "<div>\n",
       "<style scoped>\n",
       "    .dataframe tbody tr th:only-of-type {\n",
       "        vertical-align: middle;\n",
       "    }\n",
       "\n",
       "    .dataframe tbody tr th {\n",
       "        vertical-align: top;\n",
       "    }\n",
       "\n",
       "    .dataframe thead th {\n",
       "        text-align: right;\n",
       "    }\n",
       "</style>\n",
       "<table border=\"1\" class=\"dataframe\">\n",
       "  <thead>\n",
       "    <tr style=\"text-align: right;\">\n",
       "      <th></th>\n",
       "      <th>filename</th>\n",
       "      <th>category</th>\n",
       "    </tr>\n",
       "  </thead>\n",
       "  <tbody>\n",
       "    <tr>\n",
       "      <th>55380</th>\n",
       "      <td>00b32bd5ba9cdd7c2f11e3975b3e54fa.jpg</td>\n",
       "      <td>0</td>\n",
       "    </tr>\n",
       "    <tr>\n",
       "      <th>54316</th>\n",
       "      <td>00df3dd83ad6845e6fdfe675d755e17f.jpg</td>\n",
       "      <td>0</td>\n",
       "    </tr>\n",
       "    <tr>\n",
       "      <th>55035</th>\n",
       "      <td>00df7aa7afaa7c512b9a317adb0aae24.jpg</td>\n",
       "      <td>0</td>\n",
       "    </tr>\n",
       "    <tr>\n",
       "      <th>53410</th>\n",
       "      <td>00e6066eb828dcbe1755a4dabe189c06.jpg</td>\n",
       "      <td>0</td>\n",
       "    </tr>\n",
       "    <tr>\n",
       "      <th>54273</th>\n",
       "      <td>012c3848585c70f971a1621bae6c8410.jpg</td>\n",
       "      <td>0</td>\n",
       "    </tr>\n",
       "  </tbody>\n",
       "</table>\n",
       "</div>"
      ],
      "text/plain": [
       "                                   filename  category\n",
       "55380  00b32bd5ba9cdd7c2f11e3975b3e54fa.jpg         0\n",
       "54316  00df3dd83ad6845e6fdfe675d755e17f.jpg         0\n",
       "55035  00df7aa7afaa7c512b9a317adb0aae24.jpg         0\n",
       "53410  00e6066eb828dcbe1755a4dabe189c06.jpg         0\n",
       "54273  012c3848585c70f971a1621bae6c8410.jpg         0"
      ]
     },
     "execution_count": 17,
     "metadata": {},
     "output_type": "execute_result"
    }
   ],
   "source": [
    "trainDF.head()"
   ]
  },
  {
   "cell_type": "code",
   "execution_count": 18,
   "metadata": {},
   "outputs": [],
   "source": [
    "# File paths to image data\n",
    "DATADIR = \"train//train\"\n",
    "CATEGORIES_INT = trainDF['category'].unique().tolist()\n",
    "CATEGORIES = [\"{:02d}\".format((i)) for i in CATEGORIES_INT]"
   ]
  },
  {
   "cell_type": "code",
   "execution_count": 19,
   "metadata": {},
   "outputs": [],
   "source": [
    "from tensorflow.keras.preprocessing.image import ImageDataGenerator"
   ]
  },
  {
   "cell_type": "code",
   "execution_count": 20,
   "metadata": {},
   "outputs": [
    {
     "name": "stdout",
     "output_type": "stream",
     "text": [
      "D:\\University\\PersonalProjects\\Shopee2020\\Product\\train\\train\n"
     ]
    }
   ],
   "source": [
    "WD = os.getcwd()\n",
    "PATH = os.path.join(os.path.join(WD), 'train')\n",
    "TRAINING_PATH = os.path.join(PATH, 'train')\n",
    "TRAINING_DIRS = os.listdir(TRAINING_PATH)\n",
    "print(TRAINING_PATH)"
   ]
  },
  {
   "attachments": {
    "image.png": {
     "image/png": "[encoded data removed]"
    }
   },
   "cell_type": "markdown",
   "metadata": {},
   "source": [
    "Create a dictionary called partition where you gather:\n",
    "\n",
    "* in partition['train'] a list of training IDs\n",
    "* in partition['validation'] a list of validation IDs\n",
    "\n",
    "Upon further inspection of the dataset, a number of the data had malformed file extensions and were duplicates images:\n",
    "![image.png](attachment:image.png)"
   ]
  },
  {
   "cell_type": "code",
   "execution_count": 21,
   "metadata": {
    "scrolled": true
   },
   "outputs": [
    {
     "data": {
      "text/html": [
       "<div>\n",
       "<style scoped>\n",
       "    .dataframe tbody tr th:only-of-type {\n",
       "        vertical-align: middle;\n",
       "    }\n",
       "\n",
       "    .dataframe tbody tr th {\n",
       "        vertical-align: top;\n",
       "    }\n",
       "\n",
       "    .dataframe thead th {\n",
       "        text-align: right;\n",
       "    }\n",
       "</style>\n",
       "<table border=\"1\" class=\"dataframe\">\n",
       "  <thead>\n",
       "    <tr style=\"text-align: right;\">\n",
       "      <th></th>\n",
       "      <th>filename</th>\n",
       "      <th>category</th>\n",
       "    </tr>\n",
       "  </thead>\n",
       "  <tbody>\n",
       "    <tr>\n",
       "      <th>0</th>\n",
       "      <td>0004b03ad7eabfb3989727c461310a84.jpg</td>\n",
       "      <td>[3.4334915e-04 1.1414855e-04 9.3259336e-04 4.5...</td>\n",
       "    </tr>\n",
       "    <tr>\n",
       "      <th>1</th>\n",
       "      <td>0004d34271d0a0253f8a95d0746bae05.jpg</td>\n",
       "      <td>[1.1150008e-02 3.5382312e-02 1.0902072e-02 6.2...</td>\n",
       "    </tr>\n",
       "    <tr>\n",
       "      <th>2</th>\n",
       "      <td>000d4ad3d0a372fd6eea2fee6bf738ef.jpg</td>\n",
       "      <td>[0.03237012 0.02390424 0.00770928 0.01761875 0...</td>\n",
       "    </tr>\n",
       "    <tr>\n",
       "      <th>3</th>\n",
       "      <td>0012f125ad07123e69468ae1d1d59de4.jpg</td>\n",
       "      <td>[1.97626199e-04 1.56370807e-05 5.87398594e-04 ...</td>\n",
       "    </tr>\n",
       "    <tr>\n",
       "      <th>4</th>\n",
       "      <td>0015831b249b856e569e883a9dc6d4fa.jpg</td>\n",
       "      <td>[0.00122824 0.00046203 0.00205435 0.00089472 0...</td>\n",
       "    </tr>\n",
       "  </tbody>\n",
       "</table>\n",
       "</div>"
      ],
      "text/plain": [
       "                               filename  \\\n",
       "0  0004b03ad7eabfb3989727c461310a84.jpg   \n",
       "1  0004d34271d0a0253f8a95d0746bae05.jpg   \n",
       "2  000d4ad3d0a372fd6eea2fee6bf738ef.jpg   \n",
       "3  0012f125ad07123e69468ae1d1d59de4.jpg   \n",
       "4  0015831b249b856e569e883a9dc6d4fa.jpg   \n",
       "\n",
       "                                            category  \n",
       "0  [3.4334915e-04 1.1414855e-04 9.3259336e-04 4.5...  \n",
       "1  [1.1150008e-02 3.5382312e-02 1.0902072e-02 6.2...  \n",
       "2  [0.03237012 0.02390424 0.00770928 0.01761875 0...  \n",
       "3  [1.97626199e-04 1.56370807e-05 5.87398594e-04 ...  \n",
       "4  [0.00122824 0.00046203 0.00205435 0.00089472 0...  "
      ]
     },
     "execution_count": 21,
     "metadata": {},
     "output_type": "execute_result"
    }
   ],
   "source": [
    "# download results from version 6 and run the following to extract the answer\n",
    "results = pd.read_csv('results_1.csv', dtype={'filename': np.str})\n",
    "results['filename'] = results['filename'].astype('str')\n",
    "results.head()"
   ]
  },
  {
   "cell_type": "code",
   "execution_count": 22,
   "metadata": {},
   "outputs": [
    {
     "data": {
      "text/html": [
       "<div>\n",
       "<style scoped>\n",
       "    .dataframe tbody tr th:only-of-type {\n",
       "        vertical-align: middle;\n",
       "    }\n",
       "\n",
       "    .dataframe tbody tr th {\n",
       "        vertical-align: top;\n",
       "    }\n",
       "\n",
       "    .dataframe thead th {\n",
       "        text-align: right;\n",
       "    }\n",
       "</style>\n",
       "<table border=\"1\" class=\"dataframe\">\n",
       "  <thead>\n",
       "    <tr style=\"text-align: right;\">\n",
       "      <th></th>\n",
       "      <th>filename</th>\n",
       "      <th>category</th>\n",
       "    </tr>\n",
       "  </thead>\n",
       "  <tbody>\n",
       "    <tr>\n",
       "      <th>0</th>\n",
       "      <td>0004b03ad7eabfb3989727c461310a84.jpg</td>\n",
       "      <td>22</td>\n",
       "    </tr>\n",
       "    <tr>\n",
       "      <th>1</th>\n",
       "      <td>0004d34271d0a0253f8a95d0746bae05.jpg</td>\n",
       "      <td>41</td>\n",
       "    </tr>\n",
       "    <tr>\n",
       "      <th>2</th>\n",
       "      <td>000d4ad3d0a372fd6eea2fee6bf738ef.jpg</td>\n",
       "      <td>21</td>\n",
       "    </tr>\n",
       "    <tr>\n",
       "      <th>3</th>\n",
       "      <td>0012f125ad07123e69468ae1d1d59de4.jpg</td>\n",
       "      <td>22</td>\n",
       "    </tr>\n",
       "    <tr>\n",
       "      <th>4</th>\n",
       "      <td>0015831b249b856e569e883a9dc6d4fa.jpg</td>\n",
       "      <td>32</td>\n",
       "    </tr>\n",
       "  </tbody>\n",
       "</table>\n",
       "</div>"
      ],
      "text/plain": [
       "                               filename category\n",
       "0  0004b03ad7eabfb3989727c461310a84.jpg       22\n",
       "1  0004d34271d0a0253f8a95d0746bae05.jpg       41\n",
       "2  000d4ad3d0a372fd6eea2fee6bf738ef.jpg       21\n",
       "3  0012f125ad07123e69468ae1d1d59de4.jpg       22\n",
       "4  0015831b249b856e569e883a9dc6d4fa.jpg       32"
      ]
     },
     "execution_count": 22,
     "metadata": {},
     "output_type": "execute_result"
    }
   ],
   "source": [
    "results = pd.read_csv('results_1.csv', dtype={'filename': np.str})\n",
    "results['filename'] = results['filename'].astype('str')\n",
    "\n",
    "def string_name(val):\n",
    "    return str(val)\n",
    "\n",
    "import re\n",
    "\n",
    "results['filename'] = results['filename'].apply(string_name)\n",
    "results['category'] = results['category'].apply(lambda val: re.sub(\"\\s\\s+\" , \" \", val).replace(' ', ','))\n",
    "results['category'] = results['category'].apply(lambda val: eval(val))\n",
    "results['category'] = results['category'].apply(lambda val: val.index(max(val)))\n",
    "results['category'] = results[\"category\"].apply(lambda x: \"{:02}\".format(x))\n",
    "results.head()"
   ]
  },
  {
   "cell_type": "code",
   "execution_count": 23,
   "metadata": {},
   "outputs": [],
   "source": [
    "final_ans = testDF.drop(columns='category').merge(results, on='filename', how='left')"
   ]
  },
  {
   "cell_type": "code",
   "execution_count": 24,
   "metadata": {
    "scrolled": true
   },
   "outputs": [
    {
     "data": {
      "text/html": [
       "<div>\n",
       "<style scoped>\n",
       "    .dataframe tbody tr th:only-of-type {\n",
       "        vertical-align: middle;\n",
       "    }\n",
       "\n",
       "    .dataframe tbody tr th {\n",
       "        vertical-align: top;\n",
       "    }\n",
       "\n",
       "    .dataframe thead th {\n",
       "        text-align: right;\n",
       "    }\n",
       "</style>\n",
       "<table border=\"1\" class=\"dataframe\">\n",
       "  <thead>\n",
       "    <tr style=\"text-align: right;\">\n",
       "      <th></th>\n",
       "      <th>filename</th>\n",
       "      <th>category</th>\n",
       "    </tr>\n",
       "  </thead>\n",
       "  <tbody>\n",
       "    <tr>\n",
       "      <th>0</th>\n",
       "      <td>fd663cf2b6e1d7b02938c6aaae0a32d2.jpg</td>\n",
       "      <td>38</td>\n",
       "    </tr>\n",
       "    <tr>\n",
       "      <th>1</th>\n",
       "      <td>c7fd77508a8c355eaab0d4e10efd6b15.jpg</td>\n",
       "      <td>05</td>\n",
       "    </tr>\n",
       "    <tr>\n",
       "      <th>2</th>\n",
       "      <td>127f3e6d6e3491b2459812353f33a913.jpg</td>\n",
       "      <td>29</td>\n",
       "    </tr>\n",
       "    <tr>\n",
       "      <th>3</th>\n",
       "      <td>5ca4f2da11eda083064e6c36f37eeb81.jpg</td>\n",
       "      <td>12</td>\n",
       "    </tr>\n",
       "    <tr>\n",
       "      <th>4</th>\n",
       "      <td>46d681a542f2c71be017eef6aae23313.jpg</td>\n",
       "      <td>12</td>\n",
       "    </tr>\n",
       "  </tbody>\n",
       "</table>\n",
       "</div>"
      ],
      "text/plain": [
       "                               filename category\n",
       "0  fd663cf2b6e1d7b02938c6aaae0a32d2.jpg       38\n",
       "1  c7fd77508a8c355eaab0d4e10efd6b15.jpg       05\n",
       "2  127f3e6d6e3491b2459812353f33a913.jpg       29\n",
       "3  5ca4f2da11eda083064e6c36f37eeb81.jpg       12\n",
       "4  46d681a542f2c71be017eef6aae23313.jpg       12"
      ]
     },
     "execution_count": 24,
     "metadata": {},
     "output_type": "execute_result"
    }
   ],
   "source": [
    "final_ans.head()"
   ]
  },
  {
   "cell_type": "code",
   "execution_count": 25,
   "metadata": {},
   "outputs": [],
   "source": [
    "final_ans.to_csv('answer_2.csv', index=False)"
   ]
  },
  {
   "cell_type": "code",
   "execution_count": null,
   "metadata": {},
   "outputs": [],
   "source": []
  }
 ],
 "metadata": {
  "kernelspec": {
   "display_name": "Python 3",
   "language": "python",
   "name": "python3"
  },
  "language_info": {
   "codemirror_mode": {
    "name": "ipython",
    "version": 3
   },
   "file_extension": ".py",
   "mimetype": "text/x-python",
   "name": "python",
   "nbconvert_exporter": "python",
   "pygments_lexer": "ipython3",
   "version": "3.7.7"
  }
 },
 "nbformat": 4,
 "nbformat_minor": 4
}
