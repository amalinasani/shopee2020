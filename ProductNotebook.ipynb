{
 "cells": [
  {
   "cell_type": "code",
   "execution_count": 1,
   "metadata": {},
   "outputs": [],
   "source": [
    "import tensorflow as tf\n",
    "import pandas as pd\n",
    "import numpy as np\n",
    "import cv2\n",
    "import os"
   ]
  },
  {
   "attachments": {
    "image.png": {
     "image/png": "[encoded data removed]"
    }
   },
   "cell_type": "markdown",
   "metadata": {},
   "source": [
    "## Product Detection Workbook\n",
    "\n",
    "## Task\n",
    "\n",
    "In this competition, a multiple image classification model needs to be built. There are ~100k images within 42 different categories, including essential medical tools like masks, protective suits and thermometers, home & living products like air-conditioner and fashion products like T-shirts, rings, etc. For the data security purpose the category names will be desensitized. The evaluation metrics is top-1 accuracy.\n",
    "\n",
    "![image.png](attachment:image.png)\n",
    "\n",
    "Where\n",
    "- N is number of test samples.\n",
    "- xi is the predicted category for i th test sample.\n",
    "- yi is the ground truth for i th test sample.\n",
    "- p(xi,yi) is calculated as 1 if xi=yi and 0 otherwise.\n",
    "A higher score is better. In your practice you need to find a proper threshold to predict category name(string) instead of probabilities.\n",
    "\n",
    "Submission File\n",
    "Submission file format should be `csv` file only. And for each `filename` in the test dataset, you must predict only one proper category name.\n"
   ]
  },
  {
   "cell_type": "markdown",
   "metadata": {},
   "source": [
    "## Solution Steps\n",
    "\n",
    "## Data Processing\n",
    "\n",
    "Since the data was from real word use cases, inspection needed to be done to ensure that the data is free from noise and losses. As such, typical pre-processing techniques would be use to de-noise the images dataset. A candidate for this would be to apply Gaussian smoothing to the image dataset.\n",
    "\n",
    "Libraries for such functions would be OpenCV.\n",
    "\n",
    "Quick inspection of the image dataset shows that the images are not in the same sizes, thus preprocessing has to be done to resize the images into a standardise size format. \n",
    "\n",
    "The following article outlines how we can choose the right image size for our image classification model.\n",
    "https://towardsdatascience.com/boost-your-cnn-image-classifier-performance-with-progressive-resizing-in-keras-a7d96da06e20\n",
    "\n",
    "Ideally, from this we can obtained a processed dataset from where a image classification model can be built from. In this case, we would be using a convolutional neural network to be trained on the dataset for prediction on the test dataset.\n",
    "\n",
    "Image generator idea in keras & tensorflow could help with loading such large datasets which cannot fit in local memory.\n",
    "https://machinelearningmastery.com/how-to-load-large-datasets-from-directories-for-deep-learning-with-keras/\n",
    "https://www.tensorflow.org/guide/data"
   ]
  },
  {
   "cell_type": "code",
   "execution_count": 2,
   "metadata": {},
   "outputs": [],
   "source": [
    "# Reading in raw test and training CSVs\n",
    "trainDF = pd.read_csv(\"train.csv\")\n",
    "testDF = pd.read_csv(\"test.csv\")"
   ]
  },
  {
   "cell_type": "code",
   "execution_count": 3,
   "metadata": {},
   "outputs": [],
   "source": [
    "trainDF.sort_values(by=[\"category\", 'filename'], inplace=True)"
   ]
  },
  {
   "cell_type": "code",
   "execution_count": 4,
   "metadata": {},
   "outputs": [
    {
     "data": {
      "text/html": [
       "<div>\n",
       "<style scoped>\n",
       "    .dataframe tbody tr th:only-of-type {\n",
       "        vertical-align: middle;\n",
       "    }\n",
       "\n",
       "    .dataframe tbody tr th {\n",
       "        vertical-align: top;\n",
       "    }\n",
       "\n",
       "    .dataframe thead th {\n",
       "        text-align: right;\n",
       "    }\n",
       "</style>\n",
       "<table border=\"1\" class=\"dataframe\">\n",
       "  <thead>\n",
       "    <tr style=\"text-align: right;\">\n",
       "      <th></th>\n",
       "      <th>filename</th>\n",
       "      <th>category</th>\n",
       "    </tr>\n",
       "  </thead>\n",
       "  <tbody>\n",
       "    <tr>\n",
       "      <th>55380</th>\n",
       "      <td>00b32bd5ba9cdd7c2f11e3975b3e54fa.jpg</td>\n",
       "      <td>0</td>\n",
       "    </tr>\n",
       "    <tr>\n",
       "      <th>54316</th>\n",
       "      <td>00df3dd83ad6845e6fdfe675d755e17f.jpg</td>\n",
       "      <td>0</td>\n",
       "    </tr>\n",
       "    <tr>\n",
       "      <th>55035</th>\n",
       "      <td>00df7aa7afaa7c512b9a317adb0aae24.jpg</td>\n",
       "      <td>0</td>\n",
       "    </tr>\n",
       "    <tr>\n",
       "      <th>53410</th>\n",
       "      <td>00e6066eb828dcbe1755a4dabe189c06.jpg</td>\n",
       "      <td>0</td>\n",
       "    </tr>\n",
       "    <tr>\n",
       "      <th>54273</th>\n",
       "      <td>012c3848585c70f971a1621bae6c8410.jpg</td>\n",
       "      <td>0</td>\n",
       "    </tr>\n",
       "  </tbody>\n",
       "</table>\n",
       "</div>"
      ],
      "text/plain": [
       "                                   filename  category\n",
       "55380  00b32bd5ba9cdd7c2f11e3975b3e54fa.jpg         0\n",
       "54316  00df3dd83ad6845e6fdfe675d755e17f.jpg         0\n",
       "55035  00df7aa7afaa7c512b9a317adb0aae24.jpg         0\n",
       "53410  00e6066eb828dcbe1755a4dabe189c06.jpg         0\n",
       "54273  012c3848585c70f971a1621bae6c8410.jpg         0"
      ]
     },
     "execution_count": 4,
     "metadata": {},
     "output_type": "execute_result"
    }
   ],
   "source": [
    "trainDF.head()"
   ]
  },
  {
   "cell_type": "code",
   "execution_count": 5,
   "metadata": {},
   "outputs": [],
   "source": [
    "# File paths to image data\n",
    "DATADIR = \"train//train\"\n",
    "CATEGORIES_INT = trainDF['category'].unique().tolist()\n",
    "CATEGORIES = [\"{:02d}\".format((i)) for i in CATEGORIES_INT]"
   ]
  },
  {
   "cell_type": "code",
   "execution_count": 7,
   "metadata": {},
   "outputs": [],
   "source": [
    "training_data = []\n",
    "# Reading in image data\n",
    "def create_training_data():\n",
    "    for category in CATEGORIES:\n",
    "        path = os.path.join(DATADIR, category) # path to classifier directory\n",
    "        class_num = CATEGORIES.index(category)\n",
    "        for img in os.listdir(path):\n",
    "            try:\n",
    "                img_array = cv2.imread(os.path.join(path,img))\n",
    "                training_data.append([img_array, class_num])\n",
    "            except Exception as e:\n",
    "                pass\n",
    "        break\n",
    "\n",
    "create_training_data()"
   ]
  },
  {
   "cell_type": "code",
   "execution_count": 8,
   "metadata": {},
   "outputs": [
    {
     "name": "stdout",
     "output_type": "stream",
     "text": [
      "2683\n"
     ]
    }
   ],
   "source": [
    "print(len(training_data))"
   ]
  },
  {
   "cell_type": "code",
   "execution_count": null,
   "metadata": {},
   "outputs": [],
   "source": []
  }
 ],
 "metadata": {
  "kernelspec": {
   "display_name": "Python 3",
   "language": "python",
   "name": "python3"
  },
  "language_info": {
   "codemirror_mode": {
    "name": "ipython",
    "version": 3
   },
   "file_extension": ".py",
   "mimetype": "text/x-python",
   "name": "python",
   "nbconvert_exporter": "python",
   "pygments_lexer": "ipython3",
   "version": "3.7.7"
  }
 },
 "nbformat": 4,
 "nbformat_minor": 4
}
